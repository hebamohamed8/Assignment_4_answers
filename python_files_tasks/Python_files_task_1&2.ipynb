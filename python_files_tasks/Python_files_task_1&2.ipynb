{
 "cells": [
  {
   "cell_type": "code",
   "execution_count": 2,
   "metadata": {},
   "outputs": [
    {
     "name": "stdout",
     "output_type": "stream",
     "text": [
      "Enter number: 5\n"
     ]
    }
   ],
   "source": [
    "number = int(input('Enter number: '))"
   ]
  },
  {
   "cell_type": "code",
   "execution_count": 3,
   "metadata": {},
   "outputs": [
    {
     "name": "stdout",
     "output_type": "stream",
     "text": [
      "5 is prime\n"
     ]
    }
   ],
   "source": [
    "\n",
    "if number >1:\n",
    "    \n",
    "    \n",
    "    for i in range(2,number):\n",
    "    if number%i == 0:\n",
    "        print (number ,\"is not prime\")\n",
    "        break\n",
    "    else:\n",
    "    print (number, \"is prime\")"
   ]
  },
  {
   "cell_type": "code",
   "execution_count": 2,
   "metadata": {},
   "outputs": [
    {
     "name": "stdout",
     "output_type": "stream",
     "text": [
      "Enter Username: user1\n",
      "Enter Password: 123\n",
      "Enter Username: user2\n",
      "Enter Password: 765\n",
      "Enter Username: user3\n",
      "Enter Password: 8765\n"
     ]
    }
   ],
   "source": [
    "f = open('user_data.txt','a')\n",
    "for i in range(3):\n",
    "    user_name = input('Enter Username: ')\n",
    "    f.write(user_name+' ' )\n",
    "    password = input('Enter Password: ')\n",
    "    f.write(password+'\\n')\n",
    "\n",
    "    \n",
    "\n",
    "    \n",
    "    "
   ]
  },
  {
   "cell_type": "code",
   "execution_count": 3,
   "metadata": {},
   "outputs": [],
   "source": [
    "f.close()"
   ]
  },
  {
   "cell_type": "code",
   "execution_count": 4,
   "metadata": {},
   "outputs": [],
   "source": [
    "f = open('user_data.txt','r')"
   ]
  },
  {
   "cell_type": "code",
   "execution_count": null,
   "metadata": {},
   "outputs": [],
   "source": []
  }
 ],
 "metadata": {
  "kernelspec": {
   "display_name": "Python 3",
   "language": "python",
   "name": "python3"
  },
  "language_info": {
   "codemirror_mode": {
    "name": "ipython",
    "version": 3
   },
   "file_extension": ".py",
   "mimetype": "text/x-python",
   "name": "python",
   "nbconvert_exporter": "python",
   "pygments_lexer": "ipython3",
   "version": "3.7.6"
  }
 },
 "nbformat": 4,
 "nbformat_minor": 4
}
