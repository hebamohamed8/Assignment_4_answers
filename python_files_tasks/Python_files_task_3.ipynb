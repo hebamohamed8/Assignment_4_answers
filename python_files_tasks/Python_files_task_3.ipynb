{
 "cells": [
  {
   "cell_type": "code",
   "execution_count": 12,
   "metadata": {},
   "outputs": [
    {
     "name": "stdout",
     "output_type": "stream",
     "text": [
      "Enter number1: 2\n",
      "Enter number2: 8\n",
      "Enter Operator:/\n",
      "The result is1.1666666666666667\n",
      "The result is0.25\n",
      "\n"
     ]
    },
    {
     "data": {
      "text/plain": [
       "0.25"
      ]
     },
     "execution_count": 12,
     "metadata": {},
     "output_type": "execute_result"
    }
   ],
   "source": [
    "def calc():\n",
    "    \n",
    "    num1 = float(input('Enter number1: '))\n",
    "    num2 = float(input('Enter number2: '))\n",
    "    op = input('Enter Operator:')\n",
    "    if op == '+':\n",
    "        result = num1 + num2\n",
    "       \n",
    "    elif op =='-':\n",
    "        result =  num1 - num2\n",
    "        \n",
    "    elif op == '*':\n",
    "        result = num1 *num2\n",
    "        \n",
    "    elif op == '/':\n",
    "        result = num1/num2 if num2 !=0 else \"You can't divide by zero\"\n",
    "    f = open('results.txt','a+')\n",
    "    f.write(\"The result is\" + str(result)+'\\n')\n",
    "    f.close()\n",
    "    f = open('results.txt','r+')\n",
    "    print(f.read())\n",
    "    return result\n",
    "calc()"
   ]
  },
  {
   "cell_type": "code",
   "execution_count": null,
   "metadata": {},
   "outputs": [],
   "source": []
  },
  {
   "cell_type": "code",
   "execution_count": null,
   "metadata": {},
   "outputs": [],
   "source": []
  }
 ],
 "metadata": {
  "kernelspec": {
   "display_name": "Python 3",
   "language": "python",
   "name": "python3"
  },
  "language_info": {
   "codemirror_mode": {
    "name": "ipython",
    "version": 3
   },
   "file_extension": ".py",
   "mimetype": "text/x-python",
   "name": "python",
   "nbconvert_exporter": "python",
   "pygments_lexer": "ipython3",
   "version": "3.7.6"
  }
 },
 "nbformat": 4,
 "nbformat_minor": 4
}
